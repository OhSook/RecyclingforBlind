{
 "cells": [
  {
   "cell_type": "markdown",
   "metadata": {},
   "source": [
    "## CNN을 활용한 분리수거\n",
    "1. 맹인을 위해 어떤 프로그램을 만들면 좋을까 -> 분리수거를 도와주는 프로그램\n",
    "2. 데이터 셋 수집: 분리수거 통을 직접 찍어 구성"
   ]
  },
  {
   "cell_type": "code",
   "execution_count": 1,
   "metadata": {},
   "outputs": [],
   "source": [
    "import os\n",
    "import numpy as np\n",
    "import tensorflow as tf\n",
    "import matplotlib.pyplot as plt\n",
    "import time\n",
    "import cv2\n",
    "import winsound\n",
    "from glob import glob\n",
    "from keras import datasets, layers, models\n",
    "from keras.preprocessing.image import ImageDataGenerator\n",
    "from PIL import ImageGrab\n",
    "from imutils.video import WebcamVideoStream  # Webcam영상 스트림을 위해 import"
   ]
  },
  {
   "cell_type": "markdown",
   "metadata": {},
   "source": [
    "# 학습 데이터 셋 경로지정"
   ]
  },
  {
   "cell_type": "code",
   "execution_count": 2,
   "metadata": {},
   "outputs": [],
   "source": [
    "trainPath = r'D:\\intel\\Recycling\\data\\train\\\\'"
   ]
  },
  {
   "cell_type": "markdown",
   "metadata": {},
   "source": [
    "# 데이터 셋 시각화"
   ]
  },
  {
   "cell_type": "code",
   "execution_count": 3,
   "metadata": {},
   "outputs": [
    {
     "data": {
      "image/png": "[encoded data removed]",
      "text/plain": [
       "<Figure size 640x480 with 1 Axes>"
      ]
     },
     "metadata": {},
     "output_type": "display_data"
    }
   ],
   "source": [
    "\n",
    "# 각 카테고리의 파일 리스트 가져오기\n",
    "categories = ['1_paper', '2_plastic', '3_glass_can', '4_vinyl', '5_general']\n",
    "file_counts = [len(os.listdir(f'D:/intel/Recycling/data/train/{category}')) for category in categories]\n",
    "\n",
    "# 카테고리명과 파일 수를 이용하여 막대 그래프 그리기\n",
    "plt.bar(categories, file_counts, color=['red', 'green', 'skyblue', 'orange', 'pink'])\n",
    "plt.ylabel('cnt')\n",
    "plt.title('train')\n",
    "plt.show()"
   ]
  },
  {
   "cell_type": "code",
   "execution_count": 4,
   "metadata": {},
   "outputs": [
    {
     "name": "stdout",
     "output_type": "stream",
     "text": [
      "1_paper: 570 개\n",
      "2_plastic: 576 개\n",
      "3_glass_can: 553 개\n",
      "4_vinyl: 562 개\n",
      "5_general: 268 개\n"
     ]
    }
   ],
   "source": [
    "# 각 카테고리의 파일 수 출력\n",
    "for category, count in zip(categories, file_counts):\n",
    "    print(f'{category}: {count} 개')"
   ]
  },
  {
   "cell_type": "markdown",
   "metadata": {},
   "source": [
    "# 하이퍼 파라미터 튜닝"
   ]
  },
  {
   "cell_type": "code",
   "execution_count": 5,
   "metadata": {},
   "outputs": [],
   "source": [
    "numEpoch = 50\n",
    "batchSize = 32\n",
    "learningRate = 0.001\n",
    "dropoutRate = 0.3\n",
    "inputShare = (50, 66, 3)\n",
    "numClass = 5"
   ]
  },
  {
   "cell_type": "markdown",
   "metadata": {},
   "source": [
    "# 데이터 셋 증강"
   ]
  },
  {
   "cell_type": "code",
   "execution_count": 6,
   "metadata": {},
   "outputs": [
    {
     "name": "stdout",
     "output_type": "stream",
     "text": [
      "Found 2529 images belonging to 5 classes.\n"
     ]
    }
   ],
   "source": [
    "train_dataGenerator = ImageDataGenerator(\n",
    "    rescale=1.0/255.0,\n",
    "    zoom_range=0.2,\n",
    "    horizontal_flip=True\n",
    ")\n",
    "\n",
    "train_dataGenerator = ImageDataGenerator(\n",
    "    rescale=1.0/255.\n",
    ")\n",
    "\n",
    "test_dataGenerator = ImageDataGenerator(\n",
    "    rescale=1./255.\n",
    ")\n",
    "train_generator = train_dataGenerator.flow_from_directory(\n",
    "    trainPath,\n",
    "    target_size=inputShare[:2],\n",
    "    batch_size=batchSize,\n",
    "    color_mode='rgb',\n",
    "    class_mode='categorical'\n",
    ")"
   ]
  },
  {
   "cell_type": "markdown",
   "metadata": {},
   "source": [
    "# 모델 학습"
   ]
  },
  {
   "cell_type": "code",
   "execution_count": 7,
   "metadata": {},
   "outputs": [],
   "source": [
    "# 모델 생성\n",
    "model = models.Sequential()\n",
    "\n",
    "# 첫 번째 합성곱층 추가\n",
    "model.add(layers.Conv2D(32, (3, 3), activation='relu', input_shape=inputShare))\n",
    "# 최대 풀링층 추가\n",
    "model.add(layers.MaxPooling2D((2, 2)))\n",
    "# 드롭아웃 적용\n",
    "model.add(layers.Dropout(dropoutRate))\n",
    "\n",
    "# 두 번째 합성곱층 추가\n",
    "model.add(layers.Conv2D(64, (3, 3), activation='relu'))\n",
    "# 최대 풀링층 추가\n",
    "model.add(layers.MaxPooling2D((2, 2)))\n",
    "# 드롭아웃 적용\n",
    "model.add(layers.Dropout(dropoutRate))\n",
    "\n",
    "# 데이터를 1차원으로 평탄화\n",
    "model.add(layers.Flatten())\n",
    "\n",
    "# 완전 연결층 추가\n",
    "model.add(layers.Dense(64, activation='relu'))\n",
    "# 드롭아웃 적용\n",
    "model.add(layers.Dropout(dropoutRate))\n",
    "\n",
    "# 출력층 추가 (클래스 개수에 따라 조정)\n",
    "model.add(layers.Dense(numClass, activation='softmax'))"
   ]
  },
  {
   "cell_type": "code",
   "execution_count": 8,
   "metadata": {},
   "outputs": [],
   "source": [
    "# 모델 컴파일\n",
    "model.compile(optimizer=tf.optimizers.Adam(learningRate),\n",
    "              loss='categorical_crossentropy', metrics=['accuracy'])"
   ]
  },
  {
   "cell_type": "code",
   "execution_count": 9,
   "metadata": {},
   "outputs": [],
   "source": [
    "from keras.callbacks import ModelCheckpoint, EarlyStopping\n",
    "\n",
    "early_stopping = EarlyStopping(monitor = 'loss', patience = 3, restore_best_weights=True)"
   ]
  },
  {
   "cell_type": "code",
   "execution_count": 10,
   "metadata": {},
   "outputs": [
    {
     "name": "stderr",
     "output_type": "stream",
     "text": [
      "C:\\Users\\user\\AppData\\Local\\Temp\\ipykernel_2432\\4268230739.py:2: UserWarning: `Model.fit_generator` is deprecated and will be removed in a future version. Please use `Model.fit`, which supports generators.\n",
      "  model.fit_generator(\n"
     ]
    },
    {
     "name": "stdout",
     "output_type": "stream",
     "text": [
      "Epoch 1/50\n",
      "80/80 [==============================] - 23s 276ms/step - loss: 0.6921 - accuracy: 0.7256\n",
      "Epoch 2/50\n",
      "80/80 [==============================] - 9s 118ms/step - loss: 0.1046 - accuracy: 0.9684\n",
      "Epoch 3/50\n",
      "80/80 [==============================] - 9s 118ms/step - loss: 0.0556 - accuracy: 0.9862\n",
      "Epoch 4/50\n",
      "80/80 [==============================] - 9s 117ms/step - loss: 0.0376 - accuracy: 0.9889\n",
      "Epoch 5/50\n",
      "80/80 [==============================] - 9s 116ms/step - loss: 0.0271 - accuracy: 0.9917\n",
      "Epoch 6/50\n",
      "80/80 [==============================] - 9s 117ms/step - loss: 0.0350 - accuracy: 0.9901\n",
      "Epoch 7/50\n",
      "80/80 [==============================] - 10s 120ms/step - loss: 0.0211 - accuracy: 0.9945\n",
      "Epoch 8/50\n",
      "80/80 [==============================] - 9s 118ms/step - loss: 0.0209 - accuracy: 0.9945\n",
      "Epoch 9/50\n",
      "80/80 [==============================] - 10s 119ms/step - loss: 0.0175 - accuracy: 0.9968\n",
      "Epoch 10/50\n",
      "80/80 [==============================] - 10s 119ms/step - loss: 0.0119 - accuracy: 0.9984\n",
      "Epoch 11/50\n",
      "80/80 [==============================] - 10s 118ms/step - loss: 0.0147 - accuracy: 0.9953\n",
      "Epoch 12/50\n",
      "80/80 [==============================] - 10s 118ms/step - loss: 0.0154 - accuracy: 0.9968\n",
      "Epoch 13/50\n",
      "80/80 [==============================] - 9s 117ms/step - loss: 0.0211 - accuracy: 0.9945\n"
     ]
    },
    {
     "data": {
      "text/plain": [
       "<keras.callbacks.History at 0x1dd1938f730>"
      ]
     },
     "execution_count": 10,
     "metadata": {},
     "output_type": "execute_result"
    }
   ],
   "source": [
    "# 생성된 모델을 훈련 데이터로 학습\n",
    "model.fit_generator(\n",
    "    train_generator,\n",
    "    steps_per_epoch=len(train_generator),\n",
    "    epochs=numEpoch,\n",
    "    callbacks=early_stopping,\n",
    ")"
   ]
  }
 ],
 "metadata": {
  "kernelspec": {
   "display_name": "Python 3",
   "language": "python",
   "name": "python3"
  },
  "language_info": {
   "codemirror_mode": {
    "name": "ipython",
    "version": 3
   },
   "file_extension": ".py",
   "mimetype": "text/x-python",
   "name": "python",
   "nbconvert_exporter": "python",
   "pygments_lexer": "ipython3",
   "version": "3.9.13"
  }
 },
 "nbformat": 4,
 "nbformat_minor": 2
}
